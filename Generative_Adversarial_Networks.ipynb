{
  "cells": [
    {
      "cell_type": "code",
      "execution_count": 1,
      "metadata": {
        "id": "P8Ob17_UfEA-"
      },
      "outputs": [],
      "source": [
        "import pandas as pd\n",
        "import numpy as np\n",
        "import matplotlib.pyplot as plt"
      ]
    },
    {
      "cell_type": "code",
      "execution_count": 2,
      "metadata": {
        "id": "vHuY1A3nfEA_"
      },
      "outputs": [],
      "source": [
        "from tensorflow.keras.datasets import mnist"
      ]
    },
    {
      "cell_type": "code",
      "execution_count": 3,
      "metadata": {
        "id": "fvSeN_vwfEA_"
      },
      "outputs": [],
      "source": [
        "(X_train, y_train), (X_test, y_test) = mnist.load_data()"
      ]
    },
    {
      "cell_type": "code",
      "execution_count": 4,
      "metadata": {
        "colab": {
          "base_uri": "https://localhost:8080/",
          "height": 448
        },
        "id": "_RxQSMYTfEA_",
        "outputId": "1f40a40f-6b88-470e-c89b-4857d5dc5632"
      },
      "outputs": [
        {
          "data": {
            "text/plain": [
              "<matplotlib.image.AxesImage at 0x7bdc025424d0>"
            ]
          },
          "execution_count": 4,
          "metadata": {},
          "output_type": "execute_result"
        },
        {
          "data": {
            "image/png": "[encoded data removed]",
            "text/plain": [
              "<Figure size 640x480 with 1 Axes>"
            ]
          },
          "metadata": {},
          "output_type": "display_data"
        }
      ],
      "source": [
        "plt.imshow(X_train[0])"
      ]
    },
    {
      "cell_type": "code",
      "execution_count": 5,
      "metadata": {
        "colab": {
          "base_uri": "https://localhost:8080/"
        },
        "id": "_nmaVDtBfEA_",
        "outputId": "14eefd46-d6ed-4595-a988-133c688ca9d2"
      },
      "outputs": [
        {
          "data": {
            "text/plain": [
              "array([5, 0, 4, ..., 5, 6, 8], dtype=uint8)"
            ]
          },
          "execution_count": 5,
          "metadata": {},
          "output_type": "execute_result"
        }
      ],
      "source": [
        "y_train"
      ]
    },
    {
      "cell_type": "markdown",
      "metadata": {
        "id": "uiuXEGw5fEBA"
      },
      "source": [
        "## Filtering out the Data for Faster Training on Smaller Dataset"
      ]
    },
    {
      "cell_type": "code",
      "execution_count": 6,
      "metadata": {
        "id": "W8MrgO7yfEBA"
      },
      "outputs": [],
      "source": [
        "only_zeros = X_train[y_train==0]"
      ]
    },
    {
      "cell_type": "code",
      "execution_count": 7,
      "metadata": {
        "colab": {
          "base_uri": "https://localhost:8080/"
        },
        "id": "eBx04-kAfEBA",
        "outputId": "f1c9d6bd-1df5-403c-a341-cf698613d905"
      },
      "outputs": [
        {
          "data": {
            "text/plain": [
              "(5923, 28, 28)"
            ]
          },
          "execution_count": 7,
          "metadata": {},
          "output_type": "execute_result"
        }
      ],
      "source": [
        "only_zeros.shape"
      ]
    },
    {
      "cell_type": "code",
      "execution_count": 8,
      "metadata": {
        "colab": {
          "base_uri": "https://localhost:8080/",
          "height": 448
        },
        "id": "HTo5IZQOfEBA",
        "outputId": "103e8178-f9e2-4ad6-f0bd-6941e989a667"
      },
      "outputs": [
        {
          "data": {
            "text/plain": [
              "<matplotlib.image.AxesImage at 0x7bdbfef1b640>"
            ]
          },
          "execution_count": 8,
          "metadata": {},
          "output_type": "execute_result"
        },
        {
          "data": {
            "image/png": "[encoded data removed]",
            "text/plain": [
              "<Figure size 640x480 with 1 Axes>"
            ]
          },
          "metadata": {},
          "output_type": "display_data"
        }
      ],
      "source": [
        "plt.imshow(only_zeros[950])"
      ]
    },
    {
      "cell_type": "code",
      "execution_count": 9,
      "metadata": {
        "id": "g7m0VLfpfEBA"
      },
      "outputs": [],
      "source": [
        "import tensorflow as tf\n",
        "from tensorflow.keras.layers import Dense,Reshape,Flatten\n",
        "from tensorflow.keras.models import Sequential"
      ]
    },
    {
      "cell_type": "code",
      "execution_count": 10,
      "metadata": {
        "id": "Wlya7e3ZfEBA"
      },
      "outputs": [],
      "source": [
        "np.random.seed(42)\n",
        "tf.random.set_seed(42)\n",
        "\n",
        "codings_size = 100"
      ]
    },
    {
      "cell_type": "code",
      "execution_count": 11,
      "metadata": {
        "id": "sAwMO1_-fEBB"
      },
      "outputs": [],
      "source": [
        "generator = Sequential()\n",
        "generator.add(Dense(100, activation=\"relu\", input_shape=[codings_size]))\n",
        "generator.add(Dense(150,activation='relu'))\n",
        "generator.add(Dense(784, activation=\"sigmoid\")) # 28*28 = 784\n",
        "generator.add(Reshape([28,28]))"
      ]
    },
    {
      "cell_type": "code",
      "execution_count": 12,
      "metadata": {
        "id": "rYZaVBP2fEBB"
      },
      "outputs": [],
      "source": [
        "discriminator = Sequential()\n",
        "discriminator.add(Flatten(input_shape=[28,28]))\n",
        "discriminator.add(Dense(150,activation='relu'))\n",
        "discriminator.add(Dense(100,activation='relu'))\n",
        "discriminator.add(Dense(1,activation=\"sigmoid\"))\n",
        "\n",
        "discriminator.compile(loss=\"binary_crossentropy\", optimizer=\"adam\")"
      ]
    },
    {
      "cell_type": "code",
      "execution_count": 13,
      "metadata": {
        "id": "1bMj4IEsfEBB"
      },
      "outputs": [],
      "source": [
        "GAN = Sequential([generator, discriminator])"
      ]
    },
    {
      "cell_type": "code",
      "execution_count": 14,
      "metadata": {
        "id": "YD_JpmK9fEBB"
      },
      "outputs": [],
      "source": [
        "discriminator.trainable = False"
      ]
    },
    {
      "cell_type": "code",
      "execution_count": 15,
      "metadata": {
        "id": "gJMzhOvXfEBB"
      },
      "outputs": [],
      "source": [
        "GAN.compile(loss=\"binary_crossentropy\", optimizer=\"adam\")"
      ]
    },
    {
      "cell_type": "code",
      "execution_count": 16,
      "metadata": {
        "colab": {
          "base_uri": "https://localhost:8080/"
        },
        "id": "ERslgGJKfEBB",
        "outputId": "21d9bd34-1a22-4aea-d121-56f5491e0b13"
      },
      "outputs": [
        {
          "data": {
            "text/plain": [
              "[<keras.src.engine.sequential.Sequential at 0x7bdbfc948190>,\n",
              " <keras.src.engine.sequential.Sequential at 0x7bdc02541e10>]"
            ]
          },
          "execution_count": 16,
          "metadata": {},
          "output_type": "execute_result"
        }
      ],
      "source": [
        "GAN.layers"
      ]
    },
    {
      "cell_type": "code",
      "execution_count": 17,
      "metadata": {
        "colab": {
          "base_uri": "https://localhost:8080/"
        },
        "id": "fGbAyrORfEBB",
        "outputId": "1ccc850a-a9c6-4410-f5ba-49311f5fc775"
      },
      "outputs": [
        {
          "name": "stdout",
          "output_type": "stream",
          "text": [
            "Model: \"sequential_2\"\n",
            "_________________________________________________________________\n",
            " Layer (type)                Output Shape              Param #   \n",
            "=================================================================\n",
            " sequential (Sequential)     (None, 28, 28)            143634    \n",
            "                                                                 \n",
            " sequential_1 (Sequential)   (None, 1)                 132951    \n",
            "                                                                 \n",
            "=================================================================\n",
            "Total params: 276585 (1.06 MB)\n",
            "Trainable params: 143634 (561.07 KB)\n",
            "Non-trainable params: 132951 (519.34 KB)\n",
            "_________________________________________________________________\n"
          ]
        }
      ],
      "source": [
        "GAN.summary()"
      ]
    },
    {
      "cell_type": "code",
      "execution_count": 18,
      "metadata": {
        "colab": {
          "base_uri": "https://localhost:8080/"
        },
        "id": "UKwV02IJfEBC",
        "outputId": "96d56199-9b4c-40e6-90f6-4e3f9ebef567"
      },
      "outputs": [
        {
          "name": "stdout",
          "output_type": "stream",
          "text": [
            "Model: \"sequential\"\n",
            "_________________________________________________________________\n",
            " Layer (type)                Output Shape              Param #   \n",
            "=================================================================\n",
            " dense (Dense)               (None, 100)               10100     \n",
            "                                                                 \n",
            " dense_1 (Dense)             (None, 150)               15150     \n",
            "                                                                 \n",
            " dense_2 (Dense)             (None, 784)               118384    \n",
            "                                                                 \n",
            " reshape (Reshape)           (None, 28, 28)            0         \n",
            "                                                                 \n",
            "=================================================================\n",
            "Total params: 143634 (561.07 KB)\n",
            "Trainable params: 143634 (561.07 KB)\n",
            "Non-trainable params: 0 (0.00 Byte)\n",
            "_________________________________________________________________\n"
          ]
        }
      ],
      "source": [
        "GAN.layers[0].summary()"
      ]
    },
    {
      "cell_type": "code",
      "execution_count": 19,
      "metadata": {
        "colab": {
          "base_uri": "https://localhost:8080/"
        },
        "id": "T9SWi2uDfEBC",
        "outputId": "cc8a4093-4b30-4e8c-ed60-d3e008b581a0"
      },
      "outputs": [
        {
          "name": "stdout",
          "output_type": "stream",
          "text": [
            "Model: \"sequential_1\"\n",
            "_________________________________________________________________\n",
            " Layer (type)                Output Shape              Param #   \n",
            "=================================================================\n",
            " flatten (Flatten)           (None, 784)               0         \n",
            "                                                                 \n",
            " dense_3 (Dense)             (None, 150)               117750    \n",
            "                                                                 \n",
            " dense_4 (Dense)             (None, 100)               15100     \n",
            "                                                                 \n",
            " dense_5 (Dense)             (None, 1)                 101       \n",
            "                                                                 \n",
            "=================================================================\n",
            "Total params: 132951 (519.34 KB)\n",
            "Trainable params: 0 (0.00 Byte)\n",
            "Non-trainable params: 132951 (519.34 KB)\n",
            "_________________________________________________________________\n"
          ]
        }
      ],
      "source": [
        "GAN.layers[1].summary()"
      ]
    },
    {
      "cell_type": "markdown",
      "metadata": {
        "id": "k9x-NR25fEBC"
      },
      "source": [
        "### Setting up Training Batches"
      ]
    },
    {
      "cell_type": "code",
      "execution_count": 20,
      "metadata": {
        "id": "XeJw9OrzfEBC"
      },
      "outputs": [],
      "source": [
        "import tensorflow as tf"
      ]
    },
    {
      "cell_type": "code",
      "execution_count": 21,
      "metadata": {
        "id": "fIiMdXhNfEBC"
      },
      "outputs": [],
      "source": [
        "batch_size = 32"
      ]
    },
    {
      "cell_type": "code",
      "execution_count": 22,
      "metadata": {
        "id": "A6WVrs6XfEBC"
      },
      "outputs": [],
      "source": [
        "# my_data = X_train\n",
        "my_data = only_zeros"
      ]
    },
    {
      "cell_type": "code",
      "execution_count": 23,
      "metadata": {
        "id": "iCzZ8qg8fEBC"
      },
      "outputs": [],
      "source": [
        "dataset = tf.data.Dataset.from_tensor_slices(my_data).shuffle(buffer_size=1000)"
      ]
    },
    {
      "cell_type": "code",
      "execution_count": 24,
      "metadata": {
        "colab": {
          "base_uri": "https://localhost:8080/",
          "height": 121
        },
        "id": "FQAXaxWafEBC",
        "outputId": "ecb50a5a-9cd1-49bb-d915-8ec37d913123"
      },
      "outputs": [
        {
          "data": {
            "text/html": [
              "<div style=\"max-width:800px; border: 1px solid var(--colab-border-color);\"><style>\n",
              "      pre.function-repr-contents {\n",
              "        overflow-x: auto;\n",
              "        padding: 8px 12px;\n",
              "        max-height: 500px;\n",
              "      }\n",
              "\n",
              "      pre.function-repr-contents.function-repr-contents-collapsed {\n",
              "        cursor: pointer;\n",
              "        max-height: 100px;\n",
              "      }\n",
              "    </style>\n",
              "    <pre style=\"white-space: initial; background:\n",
              "         var(--colab-secondary-surface-color); padding: 8px 12px;\n",
              "         border-bottom: 1px solid var(--colab-border-color);\"><b>tensorflow.python.data.ops.shuffle_op._ShuffleDataset</b><br/>def __init__(input_dataset, buffer_size, seed=None, reshuffle_each_iteration=None, name=None)</pre><pre class=\"function-repr-contents function-repr-contents-collapsed\" style=\"\"><a class=\"filepath\" style=\"display:none\" href=\"#\">/usr/local/lib/python3.10/dist-packages/tensorflow/python/data/ops/shuffle_op.py</a>A `Dataset` that randomly shuffles the elements of its input.</pre>\n",
              "      <script>\n",
              "      if (google.colab.kernel.accessAllowed && google.colab.files && google.colab.files.view) {\n",
              "        for (const element of document.querySelectorAll('.filepath')) {\n",
              "          element.style.display = 'block'\n",
              "          element.onclick = (event) => {\n",
              "            event.preventDefault();\n",
              "            event.stopPropagation();\n",
              "            google.colab.files.view(element.textContent, 35);\n",
              "          };\n",
              "        }\n",
              "      }\n",
              "      for (const element of document.querySelectorAll('.function-repr-contents')) {\n",
              "        element.onclick = (event) => {\n",
              "          event.preventDefault();\n",
              "          event.stopPropagation();\n",
              "          element.classList.toggle('function-repr-contents-collapsed');\n",
              "        };\n",
              "      }\n",
              "      </script>\n",
              "      </div>"
            ],
            "text/plain": [
              "tensorflow.python.data.ops.shuffle_op._ShuffleDataset"
            ]
          },
          "execution_count": 24,
          "metadata": {},
          "output_type": "execute_result"
        }
      ],
      "source": [
        "type(dataset)"
      ]
    },
    {
      "cell_type": "code",
      "execution_count": 25,
      "metadata": {
        "id": "ej2aaekbfEBD"
      },
      "outputs": [],
      "source": [
        "dataset = dataset.batch(batch_size, drop_remainder=True).prefetch(1)"
      ]
    },
    {
      "cell_type": "code",
      "execution_count": 26,
      "metadata": {
        "id": "jTiHIbaLfEBD"
      },
      "outputs": [],
      "source": [
        "epochs = 50"
      ]
    },
    {
      "cell_type": "code",
      "execution_count": 27,
      "metadata": {
        "colab": {
          "base_uri": "https://localhost:8080/"
        },
        "id": "BCAahfMXfEBD",
        "outputId": "36f01513-89c7-4e12-adf2-3bd3b82be41a"
      },
      "outputs": [
        {
          "name": "stdout",
          "output_type": "stream",
          "text": [
            "Currently on Epoch 1\n",
            "\tCurrently on batch number 100 of 185\n",
            "Currently on Epoch 2\n",
            "\tCurrently on batch number 100 of 185\n",
            "Currently on Epoch 3\n",
            "\tCurrently on batch number 100 of 185\n",
            "Currently on Epoch 4\n",
            "\tCurrently on batch number 100 of 185\n",
            "Currently on Epoch 5\n",
            "\tCurrently on batch number 100 of 185\n",
            "Currently on Epoch 6\n",
            "\tCurrently on batch number 100 of 185\n",
            "Currently on Epoch 7\n",
            "\tCurrently on batch number 100 of 185\n",
            "Currently on Epoch 8\n",
            "\tCurrently on batch number 100 of 185\n",
            "Currently on Epoch 9\n",
            "\tCurrently on batch number 100 of 185\n",
            "Currently on Epoch 10\n",
            "\tCurrently on batch number 100 of 185\n",
            "Currently on Epoch 11\n",
            "\tCurrently on batch number 100 of 185\n",
            "Currently on Epoch 12\n",
            "\tCurrently on batch number 100 of 185\n",
            "Currently on Epoch 13\n",
            "\tCurrently on batch number 100 of 185\n",
            "Currently on Epoch 14\n",
            "\tCurrently on batch number 100 of 185\n",
            "Currently on Epoch 15\n",
            "\tCurrently on batch number 100 of 185\n",
            "Currently on Epoch 16\n",
            "\tCurrently on batch number 100 of 185\n",
            "Currently on Epoch 17\n",
            "\tCurrently on batch number 100 of 185\n",
            "Currently on Epoch 18\n",
            "\tCurrently on batch number 100 of 185\n",
            "Currently on Epoch 19\n",
            "\tCurrently on batch number 100 of 185\n",
            "Currently on Epoch 20\n",
            "\tCurrently on batch number 100 of 185\n",
            "Currently on Epoch 21\n",
            "\tCurrently on batch number 100 of 185\n",
            "Currently on Epoch 22\n",
            "\tCurrently on batch number 100 of 185\n",
            "Currently on Epoch 23\n",
            "\tCurrently on batch number 100 of 185\n",
            "Currently on Epoch 24\n",
            "\tCurrently on batch number 100 of 185\n",
            "Currently on Epoch 25\n",
            "\tCurrently on batch number 100 of 185\n",
            "Currently on Epoch 26\n",
            "\tCurrently on batch number 100 of 185\n",
            "Currently on Epoch 27\n",
            "\tCurrently on batch number 100 of 185\n",
            "Currently on Epoch 28\n",
            "\tCurrently on batch number 100 of 185\n",
            "Currently on Epoch 29\n",
            "\tCurrently on batch number 100 of 185\n",
            "Currently on Epoch 30\n",
            "\tCurrently on batch number 100 of 185\n",
            "Currently on Epoch 31\n",
            "\tCurrently on batch number 100 of 185\n",
            "Currently on Epoch 32\n",
            "\tCurrently on batch number 100 of 185\n",
            "Currently on Epoch 33\n",
            "\tCurrently on batch number 100 of 185\n",
            "Currently on Epoch 34\n",
            "\tCurrently on batch number 100 of 185\n",
            "Currently on Epoch 35\n",
            "\tCurrently on batch number 100 of 185\n",
            "Currently on Epoch 36\n",
            "\tCurrently on batch number 100 of 185\n",
            "Currently on Epoch 37\n",
            "\tCurrently on batch number 100 of 185\n",
            "Currently on Epoch 38\n",
            "\tCurrently on batch number 100 of 185\n",
            "Currently on Epoch 39\n",
            "\tCurrently on batch number 100 of 185\n",
            "Currently on Epoch 40\n",
            "\tCurrently on batch number 100 of 185\n",
            "Currently on Epoch 41\n",
            "\tCurrently on batch number 100 of 185\n",
            "Currently on Epoch 42\n",
            "\tCurrently on batch number 100 of 185\n",
            "Currently on Epoch 43\n",
            "\tCurrently on batch number 100 of 185\n",
            "Currently on Epoch 44\n",
            "\tCurrently on batch number 100 of 185\n",
            "Currently on Epoch 45\n",
            "\tCurrently on batch number 100 of 185\n",
            "Currently on Epoch 46\n",
            "\tCurrently on batch number 100 of 185\n",
            "Currently on Epoch 47\n",
            "\tCurrently on batch number 100 of 185\n",
            "Currently on Epoch 48\n",
            "\tCurrently on batch number 100 of 185\n",
            "Currently on Epoch 49\n",
            "\tCurrently on batch number 100 of 185\n",
            "Currently on Epoch 50\n",
            "\tCurrently on batch number 100 of 185\n",
            "TRAINING COMPLETE\n"
          ]
        }
      ],
      "source": [
        "# Grab the seprate components\n",
        "generator, discriminator = GAN.layers\n",
        "\n",
        "# For every epcoh\n",
        "for epoch in range(epochs):\n",
        "    print(f\"Currently on Epoch {epoch+1}\")\n",
        "    i = 0\n",
        "    # For every batch in the dataset\n",
        "    for X_batch in dataset:\n",
        "        i=i+1\n",
        "        if i%100 == 0:\n",
        "            print(f\"\\tCurrently on batch number {i} of {len(my_data)//batch_size}\")\n",
        "        #####################################\n",
        "        ## TRAINING THE DISCRIMINATOR ######\n",
        "        ###################################\n",
        "\n",
        "        # Create Noise\n",
        "        noise = tf.random.normal(shape=[batch_size, codings_size])\n",
        "\n",
        "        # Generate numbers based just on noise input\n",
        "        gen_images = generator(noise)\n",
        "\n",
        "        # Concatenate Generated Images against the Real Ones\n",
        "        # TO use tf.concat, the data types must match!\n",
        "        X_fake_vs_real = tf.concat([gen_images, tf.dtypes.cast(X_batch,tf.float32)], axis=0)\n",
        "\n",
        "        # Targets set to zero for fake images and 1 for real images\n",
        "        y1 = tf.constant([[0.]] * batch_size + [[1.]] * batch_size)\n",
        "\n",
        "        # This gets rid of a Keras warning\n",
        "        discriminator.trainable = True\n",
        "\n",
        "        # Train the discriminator on this batch\n",
        "        discriminator.train_on_batch(X_fake_vs_real, y1)\n",
        "\n",
        "\n",
        "        #####################################\n",
        "        ## TRAINING THE GENERATOR     ######\n",
        "        ###################################\n",
        "\n",
        "        # Create some noise\n",
        "        noise = tf.random.normal(shape=[batch_size, codings_size])\n",
        "\n",
        "        # We want discriminator to belive that fake images are real\n",
        "        y2 = tf.constant([[1.]] * batch_size)\n",
        "\n",
        "        # Avois a warning\n",
        "        discriminator.trainable = False\n",
        "\n",
        "        GAN.train_on_batch(noise, y2)\n",
        "\n",
        "print(\"TRAINING COMPLETE\")"
      ]
    },
    {
      "cell_type": "code",
      "execution_count": 29,
      "metadata": {
        "id": "qiDn7ki1fEBD"
      },
      "outputs": [],
      "source": [
        "noise = tf.random.normal(shape=[10, codings_size])"
      ]
    },
    {
      "cell_type": "code",
      "execution_count": 30,
      "metadata": {
        "colab": {
          "base_uri": "https://localhost:8080/"
        },
        "id": "OrCocrjWfEBE",
        "outputId": "c31d585e-019f-4664-9a33-b1693b99ad50"
      },
      "outputs": [
        {
          "data": {
            "text/plain": [
              "TensorShape([10, 100])"
            ]
          },
          "execution_count": 30,
          "metadata": {},
          "output_type": "execute_result"
        }
      ],
      "source": [
        "noise.shape"
      ]
    },
    {
      "cell_type": "code",
      "execution_count": 31,
      "metadata": {
        "colab": {
          "base_uri": "https://localhost:8080/",
          "height": 131
        },
        "id": "HAXzkZyGfEBE",
        "outputId": "7118f9eb-eb0a-464c-d73e-6c2862dc6f36"
      },
      "outputs": [
        {
          "data": {
            "text/plain": [
              "<matplotlib.image.AxesImage at 0x7bdbfc94b6a0>"
            ]
          },
          "execution_count": 31,
          "metadata": {},
          "output_type": "execute_result"
        },
        {
          "data": {
            "image/png": "[encoded data removed]",
            "text/plain": [
              "<Figure size 640x480 with 1 Axes>"
            ]
          },
          "metadata": {},
          "output_type": "display_data"
        }
      ],
      "source": [
        "plt.imshow(noise)"
      ]
    },
    {
      "cell_type": "code",
      "execution_count": 32,
      "metadata": {
        "id": "qC-Mldm0fEBE"
      },
      "outputs": [],
      "source": [
        "image = generator(noise)"
      ]
    },
    {
      "cell_type": "code",
      "execution_count": 34,
      "metadata": {
        "colab": {
          "base_uri": "https://localhost:8080/",
          "height": 448
        },
        "id": "JwUEjWb3fEBE",
        "outputId": "133d7280-c9d2-4509-cc51-f78420688b41"
      },
      "outputs": [
        {
          "data": {
            "text/plain": [
              "<matplotlib.image.AxesImage at 0x7bdbdc1c31c0>"
            ]
          },
          "execution_count": 34,
          "metadata": {},
          "output_type": "execute_result"
        },
        {
          "data": {
            "image/png": "[encoded data removed]",
            "text/plain": [
              "<Figure size 640x480 with 1 Axes>"
            ]
          },
          "metadata": {},
          "output_type": "display_data"
        }
      ],
      "source": [
        "plt.imshow(image[2])"
      ]
    },
    {
      "cell_type": "code",
      "execution_count": 35,
      "metadata": {
        "colab": {
          "base_uri": "https://localhost:8080/"
        },
        "id": "rLDB2hswkgj6",
        "outputId": "00d8cf50-1111-4faf-d22d-99165f2b92e3"
      },
      "outputs": [
        {
          "name": "stderr",
          "output_type": "stream",
          "text": [
            "/usr/local/lib/python3.10/dist-packages/keras/src/engine/training.py:3103: UserWarning: You are saving your model as an HDF5 file via `model.save()`. This file format is considered legacy. We recommend using instead the native Keras format, e.g. `model.save('my_model.keras')`.\n",
            "  saving_api.save_model(\n",
            "WARNING:tensorflow:Compiled the loaded model, but the compiled metrics have yet to be built. `model.compile_metrics` will be empty until you train or evaluate the model.\n"
          ]
        }
      ],
      "source": [
        "generator.save('GAN.h5')"
      ]
    },
    {
      "cell_type": "code",
      "execution_count": null,
      "metadata": {
        "id": "5VUxZyyQkqJM"
      },
      "outputs": [],
      "source": []
    }
  ],
  "metadata": {
    "accelerator": "GPU",
    "colab": {
      "gpuType": "T4",
      "provenance": []
    },
    "kernelspec": {
      "display_name": "Python 3",
      "name": "python3"
    },
    "language_info": {
      "codemirror_mode": {
        "name": "ipython",
        "version": 3
      },
      "file_extension": ".py",
      "mimetype": "text/x-python",
      "name": "python",
      "nbconvert_exporter": "python",
      "pygments_lexer": "ipython3",
      "version": "3.7.5"
    }
  },
  "nbformat": 4,
  "nbformat_minor": 0
}
