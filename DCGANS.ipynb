{
  "cells": [
    {
      "cell_type": "code",
      "execution_count": 1,
      "metadata": {
        "id": "bTp7jKPMlV-1"
      },
      "outputs": [],
      "source": [
        "import pandas as pd\n",
        "import numpy as np\n",
        "import matplotlib.pyplot as plt"
      ]
    },
    {
      "cell_type": "code",
      "execution_count": 2,
      "metadata": {
        "id": "Z_r3dxzllV-3"
      },
      "outputs": [],
      "source": [
        "from tensorflow.keras.datasets import mnist"
      ]
    },
    {
      "cell_type": "code",
      "execution_count": 3,
      "metadata": {
        "colab": {
          "base_uri": "https://localhost:8080/"
        },
        "id": "jf4FtS6QlV-3",
        "outputId": "91ed310d-886b-4c18-e294-912834434594"
      },
      "outputs": [
        {
          "name": "stdout",
          "output_type": "stream",
          "text": [
            "Downloading data from https://storage.googleapis.com/tensorflow/tf-keras-datasets/mnist.npz\n",
            "11490434/11490434 [==============================] - 0s 0us/step\n"
          ]
        }
      ],
      "source": [
        "(X_train, y_train), (X_test, y_test) = mnist.load_data()"
      ]
    },
    {
      "cell_type": "code",
      "execution_count": 4,
      "metadata": {
        "colab": {
          "base_uri": "https://localhost:8080/",
          "height": 448
        },
        "id": "9m93BDn-lV-3",
        "outputId": "39683553-bd08-4db6-ba7d-0af3a062cdba"
      },
      "outputs": [
        {
          "data": {
            "text/plain": [
              "<matplotlib.image.AxesImage at 0x7f975e81dae0>"
            ]
          },
          "execution_count": 4,
          "metadata": {},
          "output_type": "execute_result"
        },
        {
          "data": {
            "image/png": "[encoded data removed]",
            "text/plain": [
              "<Figure size 640x480 with 1 Axes>"
            ]
          },
          "metadata": {},
          "output_type": "display_data"
        }
      ],
      "source": [
        "plt.imshow(X_train[0])"
      ]
    },
    {
      "cell_type": "code",
      "execution_count": 5,
      "metadata": {
        "colab": {
          "base_uri": "https://localhost:8080/"
        },
        "id": "QImxzaJzlV-4",
        "outputId": "f894ceb2-c563-49b0-f50e-2a14b5a50fbe"
      },
      "outputs": [
        {
          "data": {
            "text/plain": [
              "array([5, 0, 4, ..., 5, 6, 8], dtype=uint8)"
            ]
          },
          "execution_count": 5,
          "metadata": {},
          "output_type": "execute_result"
        }
      ],
      "source": [
        "y_train"
      ]
    },
    {
      "cell_type": "markdown",
      "metadata": {
        "id": "PEZSNZhDlV-4"
      },
      "source": [
        "## Reshape and Rescale Images for DCGAN\n",
        "\n",
        "Generator will use tanh activation function for the last layer, so we want to reshape X_train to be within -1 to 1 limits."
      ]
    },
    {
      "cell_type": "code",
      "execution_count": 6,
      "metadata": {
        "id": "7mvjXak5lV-4"
      },
      "outputs": [],
      "source": [
        "X_train = X_train/255"
      ]
    },
    {
      "cell_type": "code",
      "execution_count": 7,
      "metadata": {
        "id": "wbYc6jSqlV-4"
      },
      "outputs": [],
      "source": [
        "X_train = X_train.reshape(-1, 28, 28, 1) * 2. - 1."
      ]
    },
    {
      "cell_type": "code",
      "execution_count": 8,
      "metadata": {
        "colab": {
          "base_uri": "https://localhost:8080/"
        },
        "id": "PHBVMQQOlV-4",
        "outputId": "f8429143-a7b1-409d-db52-22334290ccb0"
      },
      "outputs": [
        {
          "data": {
            "text/plain": [
              "-1.0"
            ]
          },
          "execution_count": 8,
          "metadata": {},
          "output_type": "execute_result"
        }
      ],
      "source": [
        "X_train.min()"
      ]
    },
    {
      "cell_type": "code",
      "execution_count": 9,
      "metadata": {
        "colab": {
          "base_uri": "https://localhost:8080/"
        },
        "id": "KkILtD3glV-4",
        "outputId": "f857bf50-a8fd-42b1-c940-4853c8689101"
      },
      "outputs": [
        {
          "data": {
            "text/plain": [
              "1.0"
            ]
          },
          "execution_count": 9,
          "metadata": {},
          "output_type": "execute_result"
        }
      ],
      "source": [
        "X_train.max()"
      ]
    },
    {
      "cell_type": "markdown",
      "metadata": {
        "id": "tQFb00qYlV-5"
      },
      "source": [
        "## Filtering out the Data for Faster Training on Smaller Dataset"
      ]
    },
    {
      "cell_type": "code",
      "execution_count": 10,
      "metadata": {
        "id": "zAlW6g5slV-5"
      },
      "outputs": [],
      "source": [
        "only_zeros = X_train[y_train==0]"
      ]
    },
    {
      "cell_type": "code",
      "execution_count": 11,
      "metadata": {
        "colab": {
          "base_uri": "https://localhost:8080/"
        },
        "id": "EW5gKEDvlV-5",
        "outputId": "9ac52662-f5cb-4274-8bd2-b216f06ef6e1"
      },
      "outputs": [
        {
          "data": {
            "text/plain": [
              "(5923, 28, 28, 1)"
            ]
          },
          "execution_count": 11,
          "metadata": {},
          "output_type": "execute_result"
        }
      ],
      "source": [
        "only_zeros.shape"
      ]
    },
    {
      "cell_type": "code",
      "execution_count": 12,
      "metadata": {
        "id": "GNObXWlllV-5"
      },
      "outputs": [],
      "source": [
        "import tensorflow as tf\n",
        "from tensorflow.keras.layers import Dense,Reshape,Dropout,LeakyReLU,Flatten,BatchNormalization,Conv2D,Conv2DTranspose\n",
        "from tensorflow.keras.models import Sequential"
      ]
    },
    {
      "cell_type": "code",
      "execution_count": 13,
      "metadata": {
        "id": "M-nUNCdclV-5"
      },
      "outputs": [],
      "source": [
        "np.random.seed(42)\n",
        "tf.random.set_seed(42)\n",
        "\n",
        "codings_size = 100"
      ]
    },
    {
      "cell_type": "code",
      "execution_count": 14,
      "metadata": {
        "id": "wU6bW5bqlV-5"
      },
      "outputs": [],
      "source": [
        "generator = Sequential()\n",
        "generator.add(Dense(7 * 7 * 128, input_shape=[codings_size]))\n",
        "generator.add(Reshape([7, 7, 128]))\n",
        "generator.add(BatchNormalization())\n",
        "generator.add(Conv2DTranspose(64, kernel_size=5, strides=2, padding=\"same\",\n",
        "                                 activation=\"relu\"))\n",
        "generator.add(BatchNormalization())\n",
        "generator.add(Conv2DTranspose(1, kernel_size=5, strides=2, padding=\"same\",\n",
        "                                 activation=\"tanh\"))\n"
      ]
    },
    {
      "cell_type": "code",
      "execution_count": 15,
      "metadata": {
        "id": "AGobjVKHlV-6"
      },
      "outputs": [],
      "source": [
        "discriminator = Sequential()\n",
        "discriminator.add(Conv2D(64, kernel_size=5, strides=2, padding=\"same\",\n",
        "                        activation=LeakyReLU(0.3),\n",
        "                        input_shape=[28, 28, 1]))\n",
        "discriminator.add(Dropout(0.5))\n",
        "discriminator.add(Conv2D(128, kernel_size=5, strides=2, padding=\"same\",\n",
        "                        activation=LeakyReLU(0.3)))\n",
        "discriminator.add(Dropout(0.5))\n",
        "discriminator.add(Flatten())\n",
        "discriminator.add(Dense(1, activation=\"sigmoid\"))"
      ]
    },
    {
      "cell_type": "code",
      "execution_count": 16,
      "metadata": {
        "id": "BItUGOjdlV-6"
      },
      "outputs": [],
      "source": [
        "GAN = Sequential([generator, discriminator])"
      ]
    },
    {
      "cell_type": "code",
      "execution_count": 17,
      "metadata": {
        "id": "q9fx7jnglV-6"
      },
      "outputs": [],
      "source": [
        "discriminator.compile(loss=\"binary_crossentropy\", optimizer=\"adam\")\n",
        "discriminator.trainable = False"
      ]
    },
    {
      "cell_type": "code",
      "execution_count": 18,
      "metadata": {
        "id": "m5b_QhdQlV-6"
      },
      "outputs": [],
      "source": [
        "GAN.compile(loss=\"binary_crossentropy\", optimizer=\"adam\")"
      ]
    },
    {
      "cell_type": "code",
      "execution_count": 19,
      "metadata": {
        "colab": {
          "base_uri": "https://localhost:8080/"
        },
        "id": "O74d7RyVlV-6",
        "outputId": "61fc6cbc-ddd6-4561-9b66-98c4184bd4a5"
      },
      "outputs": [
        {
          "data": {
            "text/plain": [
              "[<keras.src.engine.sequential.Sequential at 0x7f97592fe2f0>,\n",
              " <keras.src.engine.sequential.Sequential at 0x7f97592ff550>]"
            ]
          },
          "execution_count": 19,
          "metadata": {},
          "output_type": "execute_result"
        }
      ],
      "source": [
        "GAN.layers"
      ]
    },
    {
      "cell_type": "code",
      "execution_count": 20,
      "metadata": {
        "colab": {
          "base_uri": "https://localhost:8080/"
        },
        "id": "MYHMlsaRlV-6",
        "outputId": "46dc7da3-6212-4d6e-d406-17ab2e89fb19"
      },
      "outputs": [
        {
          "name": "stdout",
          "output_type": "stream",
          "text": [
            "Model: \"sequential_2\"\n",
            "_________________________________________________________________\n",
            " Layer (type)                Output Shape              Param #   \n",
            "=================================================================\n",
            " sequential (Sequential)     (None, 28, 28, 1)         840705    \n",
            "                                                                 \n",
            " sequential_1 (Sequential)   (None, 1)                 212865    \n",
            "                                                                 \n",
            "=================================================================\n",
            "Total params: 1053570 (4.02 MB)\n",
            "Trainable params: 840321 (3.21 MB)\n",
            "Non-trainable params: 213249 (833.00 KB)\n",
            "_________________________________________________________________\n"
          ]
        }
      ],
      "source": [
        "GAN.summary()"
      ]
    },
    {
      "cell_type": "code",
      "execution_count": 21,
      "metadata": {
        "colab": {
          "base_uri": "https://localhost:8080/"
        },
        "id": "iYKjjynhlV-6",
        "outputId": "15503605-6348-4137-dcf6-6c949561be55"
      },
      "outputs": [
        {
          "name": "stdout",
          "output_type": "stream",
          "text": [
            "Model: \"sequential\"\n",
            "_________________________________________________________________\n",
            " Layer (type)                Output Shape              Param #   \n",
            "=================================================================\n",
            " dense (Dense)               (None, 6272)              633472    \n",
            "                                                                 \n",
            " reshape (Reshape)           (None, 7, 7, 128)         0         \n",
            "                                                                 \n",
            " batch_normalization (Batch  (None, 7, 7, 128)         512       \n",
            " Normalization)                                                  \n",
            "                                                                 \n",
            " conv2d_transpose (Conv2DTr  (None, 14, 14, 64)        204864    \n",
            " anspose)                                                        \n",
            "                                                                 \n",
            " batch_normalization_1 (Bat  (None, 14, 14, 64)        256       \n",
            " chNormalization)                                                \n",
            "                                                                 \n",
            " conv2d_transpose_1 (Conv2D  (None, 28, 28, 1)         1601      \n",
            " Transpose)                                                      \n",
            "                                                                 \n",
            "=================================================================\n",
            "Total params: 840705 (3.21 MB)\n",
            "Trainable params: 840321 (3.21 MB)\n",
            "Non-trainable params: 384 (1.50 KB)\n",
            "_________________________________________________________________\n"
          ]
        }
      ],
      "source": [
        "GAN.layers[0].summary()"
      ]
    },
    {
      "cell_type": "code",
      "execution_count": 22,
      "metadata": {
        "colab": {
          "base_uri": "https://localhost:8080/"
        },
        "id": "PkMaQ7sSlV-7",
        "outputId": "76b8466a-2a2d-46db-a836-c41d976ad7f8"
      },
      "outputs": [
        {
          "name": "stdout",
          "output_type": "stream",
          "text": [
            "Model: \"sequential_1\"\n",
            "_________________________________________________________________\n",
            " Layer (type)                Output Shape              Param #   \n",
            "=================================================================\n",
            " conv2d (Conv2D)             (None, 14, 14, 64)        1664      \n",
            "                                                                 \n",
            " dropout (Dropout)           (None, 14, 14, 64)        0         \n",
            "                                                                 \n",
            " conv2d_1 (Conv2D)           (None, 7, 7, 128)         204928    \n",
            "                                                                 \n",
            " dropout_1 (Dropout)         (None, 7, 7, 128)         0         \n",
            "                                                                 \n",
            " flatten (Flatten)           (None, 6272)              0         \n",
            "                                                                 \n",
            " dense_1 (Dense)             (None, 1)                 6273      \n",
            "                                                                 \n",
            "=================================================================\n",
            "Total params: 212865 (831.50 KB)\n",
            "Trainable params: 0 (0.00 Byte)\n",
            "Non-trainable params: 212865 (831.50 KB)\n",
            "_________________________________________________________________\n"
          ]
        }
      ],
      "source": [
        "GAN.layers[1].summary()"
      ]
    },
    {
      "cell_type": "markdown",
      "metadata": {
        "id": "qnwqLHA3lV-7"
      },
      "source": [
        "### Setting up Training Batches"
      ]
    },
    {
      "cell_type": "code",
      "execution_count": 23,
      "metadata": {
        "id": "CPSOhqf3lV-7"
      },
      "outputs": [],
      "source": [
        "import tensorflow as tf"
      ]
    },
    {
      "cell_type": "code",
      "execution_count": 24,
      "metadata": {
        "id": "bg3-AwvJlV-7"
      },
      "outputs": [],
      "source": [
        "batch_size = 32"
      ]
    },
    {
      "cell_type": "code",
      "execution_count": 25,
      "metadata": {
        "id": "spmZTsg4lV-7"
      },
      "outputs": [],
      "source": [
        "# my_data = X_train\n",
        "my_data = only_zeros"
      ]
    },
    {
      "cell_type": "code",
      "execution_count": 26,
      "metadata": {
        "id": "jDTN2seClV-7"
      },
      "outputs": [],
      "source": [
        "dataset = tf.data.Dataset.from_tensor_slices(my_data).shuffle(buffer_size=1000)"
      ]
    },
    {
      "cell_type": "code",
      "execution_count": 27,
      "metadata": {
        "colab": {
          "base_uri": "https://localhost:8080/",
          "height": 121
        },
        "id": "3QPQjM9plV-7",
        "outputId": "b06f7caa-3f7f-4fb2-8ec0-2db8560d833f"
      },
      "outputs": [
        {
          "data": {
            "text/html": [
              "<div style=\"max-width:800px; border: 1px solid var(--colab-border-color);\"><style>\n",
              "      pre.function-repr-contents {\n",
              "        overflow-x: auto;\n",
              "        padding: 8px 12px;\n",
              "        max-height: 500px;\n",
              "      }\n",
              "\n",
              "      pre.function-repr-contents.function-repr-contents-collapsed {\n",
              "        cursor: pointer;\n",
              "        max-height: 100px;\n",
              "      }\n",
              "    </style>\n",
              "    <pre style=\"white-space: initial; background:\n",
              "         var(--colab-secondary-surface-color); padding: 8px 12px;\n",
              "         border-bottom: 1px solid var(--colab-border-color);\"><b>tensorflow.python.data.ops.shuffle_op._ShuffleDataset</b><br/>def __init__(input_dataset, buffer_size, seed=None, reshuffle_each_iteration=None, name=None)</pre><pre class=\"function-repr-contents function-repr-contents-collapsed\" style=\"\"><a class=\"filepath\" style=\"display:none\" href=\"#\">/usr/local/lib/python3.10/dist-packages/tensorflow/python/data/ops/shuffle_op.py</a>A `Dataset` that randomly shuffles the elements of its input.</pre>\n",
              "      <script>\n",
              "      if (google.colab.kernel.accessAllowed && google.colab.files && google.colab.files.view) {\n",
              "        for (const element of document.querySelectorAll('.filepath')) {\n",
              "          element.style.display = 'block'\n",
              "          element.onclick = (event) => {\n",
              "            event.preventDefault();\n",
              "            event.stopPropagation();\n",
              "            google.colab.files.view(element.textContent, 35);\n",
              "          };\n",
              "        }\n",
              "      }\n",
              "      for (const element of document.querySelectorAll('.function-repr-contents')) {\n",
              "        element.onclick = (event) => {\n",
              "          event.preventDefault();\n",
              "          event.stopPropagation();\n",
              "          element.classList.toggle('function-repr-contents-collapsed');\n",
              "        };\n",
              "      }\n",
              "      </script>\n",
              "      </div>"
            ],
            "text/plain": [
              "tensorflow.python.data.ops.shuffle_op._ShuffleDataset"
            ]
          },
          "execution_count": 27,
          "metadata": {},
          "output_type": "execute_result"
        }
      ],
      "source": [
        "type(dataset)"
      ]
    },
    {
      "cell_type": "code",
      "execution_count": 28,
      "metadata": {
        "id": "-21h-SBslV-8"
      },
      "outputs": [],
      "source": [
        "dataset = dataset.batch(batch_size, drop_remainder=True).prefetch(1)"
      ]
    },
    {
      "cell_type": "code",
      "execution_count": 29,
      "metadata": {
        "id": "UlXKAxn9lV-8"
      },
      "outputs": [],
      "source": [
        "epochs = 20"
      ]
    },
    {
      "cell_type": "markdown",
      "metadata": {
        "id": "UJPfqG_NlV-8"
      },
      "source": [
        "**NOTE: The generator never actually sees any real images. It learns by viewing the gradients going back through the discriminator. The better the discrimnator gets through training, the more information the discriminator contains in its gradients, which means the generator can being to make progress in learning how to generate fake images, in our case, fake zeros.**\n",
        "\n",
        "## Training Loop"
      ]
    },
    {
      "cell_type": "code",
      "execution_count": 30,
      "metadata": {
        "colab": {
          "base_uri": "https://localhost:8080/"
        },
        "id": "Nb8_6w1IlV-8",
        "outputId": "ef460304-a27a-4929-d4c7-4b6418785598"
      },
      "outputs": [
        {
          "name": "stdout",
          "output_type": "stream",
          "text": [
            "Currently on Epoch 1\n",
            "\tCurrently on batch number 20 of 185\n",
            "\tCurrently on batch number 40 of 185\n",
            "\tCurrently on batch number 60 of 185\n",
            "\tCurrently on batch number 80 of 185\n",
            "\tCurrently on batch number 100 of 185\n",
            "\tCurrently on batch number 120 of 185\n",
            "\tCurrently on batch number 140 of 185\n",
            "\tCurrently on batch number 160 of 185\n",
            "\tCurrently on batch number 180 of 185\n",
            "Currently on Epoch 2\n",
            "\tCurrently on batch number 20 of 185\n",
            "\tCurrently on batch number 40 of 185\n",
            "\tCurrently on batch number 60 of 185\n",
            "\tCurrently on batch number 80 of 185\n",
            "\tCurrently on batch number 100 of 185\n",
            "\tCurrently on batch number 120 of 185\n",
            "\tCurrently on batch number 140 of 185\n",
            "\tCurrently on batch number 160 of 185\n",
            "\tCurrently on batch number 180 of 185\n",
            "Currently on Epoch 3\n",
            "\tCurrently on batch number 20 of 185\n",
            "\tCurrently on batch number 40 of 185\n",
            "\tCurrently on batch number 60 of 185\n",
            "\tCurrently on batch number 80 of 185\n",
            "\tCurrently on batch number 100 of 185\n",
            "\tCurrently on batch number 120 of 185\n",
            "\tCurrently on batch number 140 of 185\n",
            "\tCurrently on batch number 160 of 185\n",
            "\tCurrently on batch number 180 of 185\n",
            "Currently on Epoch 4\n",
            "\tCurrently on batch number 20 of 185\n",
            "\tCurrently on batch number 40 of 185\n",
            "\tCurrently on batch number 60 of 185\n",
            "\tCurrently on batch number 80 of 185\n",
            "\tCurrently on batch number 100 of 185\n",
            "\tCurrently on batch number 120 of 185\n",
            "\tCurrently on batch number 140 of 185\n",
            "\tCurrently on batch number 160 of 185\n",
            "\tCurrently on batch number 180 of 185\n",
            "Currently on Epoch 5\n",
            "\tCurrently on batch number 20 of 185\n",
            "\tCurrently on batch number 40 of 185\n",
            "\tCurrently on batch number 60 of 185\n",
            "\tCurrently on batch number 80 of 185\n",
            "\tCurrently on batch number 100 of 185\n",
            "\tCurrently on batch number 120 of 185\n",
            "\tCurrently on batch number 140 of 185\n",
            "\tCurrently on batch number 160 of 185\n",
            "\tCurrently on batch number 180 of 185\n",
            "Currently on Epoch 6\n",
            "\tCurrently on batch number 20 of 185\n",
            "\tCurrently on batch number 40 of 185\n",
            "\tCurrently on batch number 60 of 185\n",
            "\tCurrently on batch number 80 of 185\n",
            "\tCurrently on batch number 100 of 185\n",
            "\tCurrently on batch number 120 of 185\n",
            "\tCurrently on batch number 140 of 185\n",
            "\tCurrently on batch number 160 of 185\n",
            "\tCurrently on batch number 180 of 185\n",
            "Currently on Epoch 7\n",
            "\tCurrently on batch number 20 of 185\n",
            "\tCurrently on batch number 40 of 185\n",
            "\tCurrently on batch number 60 of 185\n",
            "\tCurrently on batch number 80 of 185\n",
            "\tCurrently on batch number 100 of 185\n",
            "\tCurrently on batch number 120 of 185\n",
            "\tCurrently on batch number 140 of 185\n",
            "\tCurrently on batch number 160 of 185\n",
            "\tCurrently on batch number 180 of 185\n",
            "Currently on Epoch 8\n",
            "\tCurrently on batch number 20 of 185\n",
            "\tCurrently on batch number 40 of 185\n",
            "\tCurrently on batch number 60 of 185\n",
            "\tCurrently on batch number 80 of 185\n",
            "\tCurrently on batch number 100 of 185\n",
            "\tCurrently on batch number 120 of 185\n",
            "\tCurrently on batch number 140 of 185\n",
            "\tCurrently on batch number 160 of 185\n",
            "\tCurrently on batch number 180 of 185\n",
            "Currently on Epoch 9\n",
            "\tCurrently on batch number 20 of 185\n",
            "\tCurrently on batch number 40 of 185\n",
            "\tCurrently on batch number 60 of 185\n",
            "\tCurrently on batch number 80 of 185\n",
            "\tCurrently on batch number 100 of 185\n",
            "\tCurrently on batch number 120 of 185\n",
            "\tCurrently on batch number 140 of 185\n",
            "\tCurrently on batch number 160 of 185\n",
            "\tCurrently on batch number 180 of 185\n",
            "Currently on Epoch 10\n",
            "\tCurrently on batch number 20 of 185\n",
            "\tCurrently on batch number 40 of 185\n",
            "\tCurrently on batch number 60 of 185\n",
            "\tCurrently on batch number 80 of 185\n",
            "\tCurrently on batch number 100 of 185\n",
            "\tCurrently on batch number 120 of 185\n",
            "\tCurrently on batch number 140 of 185\n",
            "\tCurrently on batch number 160 of 185\n",
            "\tCurrently on batch number 180 of 185\n",
            "Currently on Epoch 11\n",
            "\tCurrently on batch number 20 of 185\n",
            "\tCurrently on batch number 40 of 185\n",
            "\tCurrently on batch number 60 of 185\n",
            "\tCurrently on batch number 80 of 185\n",
            "\tCurrently on batch number 100 of 185\n",
            "\tCurrently on batch number 120 of 185\n",
            "\tCurrently on batch number 140 of 185\n",
            "\tCurrently on batch number 160 of 185\n",
            "\tCurrently on batch number 180 of 185\n",
            "Currently on Epoch 12\n",
            "\tCurrently on batch number 20 of 185\n",
            "\tCurrently on batch number 40 of 185\n",
            "\tCurrently on batch number 60 of 185\n",
            "\tCurrently on batch number 80 of 185\n",
            "\tCurrently on batch number 100 of 185\n",
            "\tCurrently on batch number 120 of 185\n",
            "\tCurrently on batch number 140 of 185\n",
            "\tCurrently on batch number 160 of 185\n",
            "\tCurrently on batch number 180 of 185\n",
            "Currently on Epoch 13\n",
            "\tCurrently on batch number 20 of 185\n",
            "\tCurrently on batch number 40 of 185\n",
            "\tCurrently on batch number 60 of 185\n",
            "\tCurrently on batch number 80 of 185\n",
            "\tCurrently on batch number 100 of 185\n",
            "\tCurrently on batch number 120 of 185\n",
            "\tCurrently on batch number 140 of 185\n",
            "\tCurrently on batch number 160 of 185\n",
            "\tCurrently on batch number 180 of 185\n",
            "Currently on Epoch 14\n",
            "\tCurrently on batch number 20 of 185\n",
            "\tCurrently on batch number 40 of 185\n",
            "\tCurrently on batch number 60 of 185\n",
            "\tCurrently on batch number 80 of 185\n",
            "\tCurrently on batch number 100 of 185\n",
            "\tCurrently on batch number 120 of 185\n",
            "\tCurrently on batch number 140 of 185\n",
            "\tCurrently on batch number 160 of 185\n",
            "\tCurrently on batch number 180 of 185\n",
            "Currently on Epoch 15\n",
            "\tCurrently on batch number 20 of 185\n",
            "\tCurrently on batch number 40 of 185\n",
            "\tCurrently on batch number 60 of 185\n",
            "\tCurrently on batch number 80 of 185\n",
            "\tCurrently on batch number 100 of 185\n",
            "\tCurrently on batch number 120 of 185\n",
            "\tCurrently on batch number 140 of 185\n",
            "\tCurrently on batch number 160 of 185\n",
            "\tCurrently on batch number 180 of 185\n",
            "Currently on Epoch 16\n",
            "\tCurrently on batch number 20 of 185\n",
            "\tCurrently on batch number 40 of 185\n",
            "\tCurrently on batch number 60 of 185\n",
            "\tCurrently on batch number 80 of 185\n",
            "\tCurrently on batch number 100 of 185\n",
            "\tCurrently on batch number 120 of 185\n",
            "\tCurrently on batch number 140 of 185\n",
            "\tCurrently on batch number 160 of 185\n",
            "\tCurrently on batch number 180 of 185\n",
            "Currently on Epoch 17\n",
            "\tCurrently on batch number 20 of 185\n",
            "\tCurrently on batch number 40 of 185\n",
            "\tCurrently on batch number 60 of 185\n",
            "\tCurrently on batch number 80 of 185\n",
            "\tCurrently on batch number 100 of 185\n",
            "\tCurrently on batch number 120 of 185\n",
            "\tCurrently on batch number 140 of 185\n",
            "\tCurrently on batch number 160 of 185\n",
            "\tCurrently on batch number 180 of 185\n",
            "Currently on Epoch 18\n",
            "\tCurrently on batch number 20 of 185\n",
            "\tCurrently on batch number 40 of 185\n",
            "\tCurrently on batch number 60 of 185\n",
            "\tCurrently on batch number 80 of 185\n",
            "\tCurrently on batch number 100 of 185\n",
            "\tCurrently on batch number 120 of 185\n",
            "\tCurrently on batch number 140 of 185\n",
            "\tCurrently on batch number 160 of 185\n",
            "\tCurrently on batch number 180 of 185\n",
            "Currently on Epoch 19\n",
            "\tCurrently on batch number 20 of 185\n",
            "\tCurrently on batch number 40 of 185\n",
            "\tCurrently on batch number 60 of 185\n",
            "\tCurrently on batch number 80 of 185\n",
            "\tCurrently on batch number 100 of 185\n",
            "\tCurrently on batch number 120 of 185\n",
            "\tCurrently on batch number 140 of 185\n",
            "\tCurrently on batch number 160 of 185\n",
            "\tCurrently on batch number 180 of 185\n",
            "Currently on Epoch 20\n",
            "\tCurrently on batch number 20 of 185\n",
            "\tCurrently on batch number 40 of 185\n",
            "\tCurrently on batch number 60 of 185\n",
            "\tCurrently on batch number 80 of 185\n",
            "\tCurrently on batch number 100 of 185\n",
            "\tCurrently on batch number 120 of 185\n",
            "\tCurrently on batch number 140 of 185\n",
            "\tCurrently on batch number 160 of 185\n",
            "\tCurrently on batch number 180 of 185\n",
            "TRAINING COMPLETE\n"
          ]
        }
      ],
      "source": [
        "# Grab the seprate components\n",
        "generator, discriminator = GAN.layers\n",
        "\n",
        "# For every epcoh\n",
        "for epoch in range(epochs):\n",
        "    print(f\"Currently on Epoch {epoch+1}\")\n",
        "    i = 0\n",
        "    # For every batch in the dataset\n",
        "    for X_batch in dataset:\n",
        "        i=i+1\n",
        "        if i%20 == 0:\n",
        "            print(f\"\\tCurrently on batch number {i} of {len(my_data)//batch_size}\")\n",
        "        #####################################\n",
        "        ## TRAINING THE DISCRIMINATOR ######\n",
        "        ###################################\n",
        "\n",
        "        # Create Noise\n",
        "        noise = tf.random.normal(shape=[batch_size, codings_size])\n",
        "\n",
        "        # Generate numbers based just on noise input\n",
        "        gen_images = generator(noise)\n",
        "\n",
        "        # Concatenate Generated Images against the Real Ones\n",
        "        # TO use tf.concat, the data types must match!\n",
        "        X_fake_vs_real = tf.concat([gen_images, tf.dtypes.cast(X_batch,tf.float32)], axis=0)\n",
        "\n",
        "        # Targets set to zero for fake images and 1 for real images\n",
        "        y1 = tf.constant([[0.]] * batch_size + [[1.]] * batch_size)\n",
        "\n",
        "        # This gets rid of a Keras warning\n",
        "        discriminator.trainable = True\n",
        "\n",
        "        # Train the discriminator on this batch\n",
        "        discriminator.train_on_batch(X_fake_vs_real, y1)\n",
        "\n",
        "\n",
        "        #####################################\n",
        "        ## TRAINING THE GENERATOR     ######\n",
        "        ###################################\n",
        "\n",
        "        # Create some noise\n",
        "        noise = tf.random.normal(shape=[batch_size, codings_size])\n",
        "\n",
        "        # We want discriminator to belive that fake images are real\n",
        "        y2 = tf.constant([[1.]] * batch_size)\n",
        "\n",
        "        # Avois a warning\n",
        "        discriminator.trainable = False\n",
        "\n",
        "        GAN.train_on_batch(noise, y2)\n",
        "\n",
        "print(\"TRAINING COMPLETE\")"
      ]
    },
    {
      "cell_type": "code",
      "execution_count": 32,
      "metadata": {
        "id": "AYyHIxjklV--"
      },
      "outputs": [],
      "source": [
        "noise = tf.random.normal(shape=[10, codings_size])"
      ]
    },
    {
      "cell_type": "code",
      "execution_count": 33,
      "metadata": {
        "colab": {
          "base_uri": "https://localhost:8080/"
        },
        "id": "0OuZA-sAlV_H",
        "outputId": "027eb9c7-fd84-4e89-c20f-01ffbd3acd5a"
      },
      "outputs": [
        {
          "data": {
            "text/plain": [
              "TensorShape([10, 100])"
            ]
          },
          "execution_count": 33,
          "metadata": {},
          "output_type": "execute_result"
        }
      ],
      "source": [
        "noise.shape"
      ]
    },
    {
      "cell_type": "code",
      "execution_count": 34,
      "metadata": {
        "colab": {
          "base_uri": "https://localhost:8080/",
          "height": 131
        },
        "id": "GtgnhSTBlV_H",
        "outputId": "1857cf8f-44fc-4d50-d830-e833dad2d7da"
      },
      "outputs": [
        {
          "data": {
            "text/plain": [
              "<matplotlib.image.AxesImage at 0x7f9750ac1180>"
            ]
          },
          "execution_count": 34,
          "metadata": {},
          "output_type": "execute_result"
        },
        {
          "data": {
            "image/png": "[encoded data removed]",
            "text/plain": [
              "<Figure size 640x480 with 1 Axes>"
            ]
          },
          "metadata": {},
          "output_type": "display_data"
        }
      ],
      "source": [
        "plt.imshow(noise)"
      ]
    },
    {
      "cell_type": "code",
      "execution_count": 35,
      "metadata": {
        "id": "-PDrbTitlV_H"
      },
      "outputs": [],
      "source": [
        "images = generator(noise)"
      ]
    },
    {
      "cell_type": "code",
      "execution_count": 36,
      "metadata": {
        "id": "gJ7dIWDhlV_H"
      },
      "outputs": [],
      "source": [
        "single_image = images[0]"
      ]
    },
    {
      "cell_type": "code",
      "execution_count": 37,
      "metadata": {
        "id": "tHJ_Xw2QlV_I"
      },
      "outputs": [],
      "source": [
        "# single_image.numpy().reshape(28,28)"
      ]
    },
    {
      "cell_type": "code",
      "execution_count": 38,
      "metadata": {
        "colab": {
          "base_uri": "https://localhost:8080/",
          "height": 1000
        },
        "id": "YyFsbVKBlV_I",
        "outputId": "c411f654-f446-4426-dc8e-21d8f3dc1240"
      },
      "outputs": [
        {
          "data": {
            "image/png": "[encoded data removed]",
            "text/plain": [
              "<Figure size 640x480 with 1 Axes>"
            ]
          },
          "metadata": {},
          "output_type": "display_data"
        },
        {
          "data": {
            "image/png": "[encoded data removed]",
            "text/plain": [
              "<Figure size 640x480 with 1 Axes>"
            ]
          },
          "metadata": {},
          "output_type": "display_data"
        },
        {
          "data": {
            "image/png": "[encoded data removed]",
            "text/plain": [
              "<Figure size 640x480 with 1 Axes>"
            ]
          },
          "metadata": {},
          "output_type": "display_data"
        },
        {
          "data": {
            "image/png": "[encoded data removed]",
            "text/plain": [
              "<Figure size 640x480 with 1 Axes>"
            ]
          },
          "metadata": {},
          "output_type": "display_data"
        },
        {
          "data": {
            "image/png": "[encoded data removed]",
            "text/plain": [
              "<Figure size 640x480 with 1 Axes>"
            ]
          },
          "metadata": {},
          "output_type": "display_data"
        },
        {
          "data": {
            "image/png": "[encoded data removed]",
            "text/plain": [
              "<Figure size 640x480 with 1 Axes>"
            ]
          },
          "metadata": {},
          "output_type": "display_data"
        },
        {
          "data": {
            "image/png": "[encoded data removed]",
            "text/plain": [
              "<Figure size 640x480 with 1 Axes>"
            ]
          },
          "metadata": {},
          "output_type": "display_data"
        },
        {
          "data": {
            "image/png": "[encoded data removed]",
            "text/plain": [
              "<Figure size 640x480 with 1 Axes>"
            ]
          },
          "metadata": {},
          "output_type": "display_data"
        },
        {
          "data": {
            "image/png": "[encoded data removed]",
            "text/plain": [
              "<Figure size 640x480 with 1 Axes>"
            ]
          },
          "metadata": {},
          "output_type": "display_data"
        },
        {
          "data": {
            "image/png": "[encoded data removed]",
            "text/plain": [
              "<Figure size 640x480 with 1 Axes>"
            ]
          },
          "metadata": {},
          "output_type": "display_data"
        }
      ],
      "source": [
        "for image in images:\n",
        "    plt.imshow(image.numpy().reshape(28,28))\n",
        "    plt.show()"
      ]
    },
    {
      "cell_type": "code",
      "execution_count": 39,
      "metadata": {
        "colab": {
          "base_uri": "https://localhost:8080/"
        },
        "id": "ktF1dYZQm8Dy",
        "outputId": "75b3743d-0c7d-4ea1-adfd-b4cb9e04c242"
      },
      "outputs": [
        {
          "name": "stderr",
          "output_type": "stream",
          "text": [
            "/usr/local/lib/python3.10/dist-packages/keras/src/engine/training.py:3103: UserWarning: You are saving your model as an HDF5 file via `model.save()`. This file format is considered legacy. We recommend using instead the native Keras format, e.g. `model.save('my_model.keras')`.\n",
            "  saving_api.save_model(\n",
            "WARNING:tensorflow:Compiled the loaded model, but the compiled metrics have yet to be built. `model.compile_metrics` will be empty until you train or evaluate the model.\n"
          ]
        }
      ],
      "source": [
        "generator.save('DCGAN.h5')"
      ]
    },
    {
      "cell_type": "code",
      "execution_count": null,
      "metadata": {
        "id": "DtYMt-clnBBE"
      },
      "outputs": [],
      "source": []
    }
  ],
  "metadata": {
    "accelerator": "GPU",
    "colab": {
      "gpuType": "T4",
      "provenance": []
    },
    "kernelspec": {
      "display_name": "Python 3",
      "name": "python3"
    },
    "language_info": {
      "codemirror_mode": {
        "name": "ipython",
        "version": 3
      },
      "file_extension": ".py",
      "mimetype": "text/x-python",
      "name": "python",
      "nbconvert_exporter": "python",
      "pygments_lexer": "ipython3",
      "version": "3.7.5"
    }
  },
  "nbformat": 4,
  "nbformat_minor": 0
}
